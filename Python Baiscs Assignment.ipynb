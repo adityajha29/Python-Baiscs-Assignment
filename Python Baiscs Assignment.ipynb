{
 "cells": [
  {
   "cell_type": "code",
   "execution_count": null,
   "id": "9dfcaa01-aaea-4de3-8e04-636bccfc966f",
   "metadata": {},
   "outputs": [],
   "source": [
    "# Explain the key features of python that make it a popular choice for programming\n",
    "\n",
    "Pythons popularity as a programming language stems from several key features that make it beginner friendly, versatile, and efficient\n",
    "\n",
    "Simplicity and Readability:\n",
    "    \n",
    "Pythons syntax is simple and resembles English,\n",
    "making it easy to learn and read. Codes are written without semicolons, and\n",
    "the language executes code line by line, simplifying debugging.\n",
    "\n",
    "Extensive Standard Library:\n",
    "\n",
    "Python comes with a large library of pre-built modules and functions, \n",
    "reducing the need to write repetitive code from scratch.\n",
    "\n",
    "Dynamic Typing and Binding: \n",
    "\n",
    "Python uses dynamic typing and binding, allowing variables to store different data types throughout a program and\n",
    "making coding more flexible.\n",
    "\n",
    "Object Oriented Programming:\n",
    "\n",
    "Wide Range of Libraries and Frameworks:\n",
    "    \n",
    "Python offers a vast ecosystem of libraries and frameworks for various purposes\n",
    "including data science, web development, and machine learning.\n",
    "\n"
   ]
  },
  {
   "cell_type": "code",
   "execution_count": null,
   "id": "3ee782a8-2324-4d9a-92f3-ca242865aebf",
   "metadata": {},
   "outputs": [],
   "source": [
    "# Define the role of pre defined keywords in python and provide examples of how they are used in programs\n",
    "\n",
    "Python Keywords are some predefined and reserved words in Python that have special meanings\n",
    "Keywords are used to define the syntax of the coding. The keyword cannot be used as an identifier,\n",
    "function, or variable name. All the keywords in Python are written in lowercase except True and False.\n",
    "Examples are:- and, or, not, if, elif, else, for, while, break etc."
   ]
  },
  {
   "cell_type": "code",
   "execution_count": null,
   "id": "0fb8fc51-2b61-48a8-9155-759b1afc9f57",
   "metadata": {},
   "outputs": [],
   "source": [
    "# compare and contrast mutable and immutable objects in python with examples\n",
    "\n",
    "Mutable Objects\n",
    "1) Data type whose value can be changed after creation\n",
    "2) Retains same memory location\n",
    "3) It is memory effecient\n",
    "4) List, Dictionaries, Set\n",
    "\n",
    "Immutable Objects\n",
    "1) Data type whose value cannot be changed or altered after creation\n",
    "2) Any modification results in the change of memory location\n",
    "3) It might faster in some scenarios\n",
    "4) Strings, Types, Integer"
   ]
  },
  {
   "cell_type": "code",
   "execution_count": null,
   "id": "f5ca684b-5ab2-4bd4-b782-5083badf5ba0",
   "metadata": {},
   "outputs": [],
   "source": [
    "# Discuss the different types of operators in python and provide examples of how they are used\n",
    "\n",
    "The different types of operators are:-\n",
    "\n",
    "Arithematic Operators:- Performs basic mathematical operations like addition, subtraction, multiplication and division\n",
    "\n",
    "Logical Operators:- Make decisions on based on multiple conditions using operators like and, or, not\n",
    "\n",
    "Bitwise Operators:- Perform operations on individual bits of binary numbers, using operators like & (bitwise AND), | (bitwise OR), and ^ (bitwise XOR). These operators compare corresponding bits of two numbers and return a result.\n",
    "\n",
    "Assignment Operators:- Use the equals sign (=) to assign a value to a variable. The value on the right-hand side of the equals sign is assigned to the variable on the left-hand side."
   ]
  },
  {
   "cell_type": "code",
   "execution_count": null,
   "id": "7a282412-857b-4b16-8fb6-09a87cf803b5",
   "metadata": {},
   "outputs": [],
   "source": [
    "# Explain the concept of type casting in python with examples \n",
    "\n",
    "Type Casting is the method to convert the Python variable datatype into a certain data type in order to\n",
    "perform the required operation by users. In this article, we will see the various techniques for\n",
    "typecasting. There can be two types of Type Casting in Python\n",
    "\n",
    "Python Implicit Type Conversion\n",
    "Python Explicit Type Conversion\n",
    "\n"
   ]
  },
  {
   "cell_type": "code",
   "execution_count": null,
   "id": "4a76c6f3-257f-41c8-b268-f77bcd856b74",
   "metadata": {},
   "outputs": [],
   "source": [
    "# How do conditional statements work in python illustrate with examples\n",
    "\n",
    "Conditional statements in Python allow you to control the flow of your program based on certain conditions. The most common ones are\n",
    "\n",
    "if statement: Executes a block of code only if a specified condition is true\n",
    "if-else statement: Executes one block of code if the condition is true, and another block if its false\n",
    "if-elif-else statement: Tests multiple conditions in sequence and executes the code block corresponding to the first true condition\n",
    "\n",
    "# Examples\n",
    "\n",
    "x = 10\n",
    "\n",
    "if x > 5:\n",
    "    print(\"x is greater than 5\")\n",
    "    \n",
    "# Examples \n",
    "\n",
    "age = 15\n",
    "\n",
    "if age >= 18:\n",
    "    print(\"You are eligible to vote.\")\n",
    "else:\n",
    "    print(\"You are not eligible to vote yet.\")\n"
   ]
  },
  {
   "cell_type": "code",
   "execution_count": null,
   "id": "de41ed64-dbbd-4895-aef1-4d8d7f3e57ea",
   "metadata": {},
   "outputs": [],
   "source": [
    "# Describe the different types of loops in python and their use cases with examples\n",
    "\n",
    "For Loop:- A for loop in Python is used to iterate over a sequence (list, tuple, set, dictionary, and string)\n",
    "While Loop:- The while loop is used to execute a set of statements as long as a condition is true\n",
    "Nested Loop:- If a loop exists inside the body of another loop, it is called a nested loop\n",
    "\n",
    "# Exmple 1\n",
    "\n",
    "n = 4\n",
    "for i in range(0, n):\n",
    "    print(i)\n",
    "    \n",
    "\n",
    "# Example 2\n",
    "\n",
    "count = 0\n",
    "while (count < 3):\n",
    "    count = count + 1\n",
    "    print(\"Hey Ashish\")\n",
    "else:\n",
    "    print(\"In Else Block\")"
   ]
  }
 ],
 "metadata": {
  "kernelspec": {
   "display_name": "Python 3 (ipykernel)",
   "language": "python",
   "name": "python3"
  },
  "language_info": {
   "codemirror_mode": {
    "name": "ipython",
    "version": 3
   },
   "file_extension": ".py",
   "mimetype": "text/x-python",
   "name": "python",
   "nbconvert_exporter": "python",
   "pygments_lexer": "ipython3",
   "version": "3.10.8"
  }
 },
 "nbformat": 4,
 "nbformat_minor": 5
}
